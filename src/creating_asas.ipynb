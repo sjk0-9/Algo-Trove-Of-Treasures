{
 "cells": [
  {
   "cell_type": "markdown",
   "id": "fdaeadcf-4a0c-421b-86e2-4e3a0d8f5899",
   "metadata": {},
   "source": [
    "# Creating ASAs and NFTs\n",
    "\n",
    "Here we'll create some quick, helpful functions to create and manage our own ASAs.\n",
    "These could be used for a whole range of things, including (but not limited to) NFTs.\n",
    "\n",
    "We'll also cover how to upload and pin to the IPFS via Pinata and how to include [ARC-69](https://github.com/algokittens/arc69) metadata when creating your assets.\n",
    "\n",
    "By the end of this you should be able to start building your own tools for creating and managing ASAs and NFTs."
   ]
  },
  {
   "cell_type": "markdown",
   "id": "5fcdb3f6-531a-4ca7-8464-3c1dbaa53613",
   "metadata": {},
   "source": [
    "To begin, we'll import the required algorand methods as well as our environment we set up [here](./env_file.md), requests (which we'll use to connect to Pinata), hashlib for creating the hash of our file, json for ARC-69 and the sleep method for waiting on the algorand network.\n",
    "\n",
    "We'll then create the algorand connections we need, and get the key and address from our mnemonic. If all works, you should see your algorand address printed at the end."
   ]
  },
  {
   "cell_type": "code",
   "execution_count": 1,
   "id": "54efdcd6-36c8-4847-ae68-6e544d79ba18",
   "metadata": {},
   "outputs": [],
   "source": [
    "from algosdk.v2client import algod\n",
    "from algosdk import mnemonic, account\n",
    "from algosdk.future.transaction import AssetConfigTxn\n",
    "import env\n",
    "import requests\n",
    "import hashlib\n",
    "import json\n",
    "from time import sleep"
   ]
  },
  {
   "cell_type": "code",
   "execution_count": 2,
   "id": "927bfda0-0ce2-4e1f-ac81-b46227896c46",
   "metadata": {},
   "outputs": [
    {
     "data": {
      "text/plain": [
       "'DEMOAOT4WHSF7RHA7ICKIHJGXPSVGH5AFMTRJFSUTVBEYZ6Y2EV2K3XCVQ'"
      ]
     },
     "execution_count": 2,
     "metadata": {},
     "output_type": "execute_result"
    }
   ],
   "source": [
    "ac = algod.AlgodClient(env.API_TOKEN, env.ALGOD_ADDRESS, env.API_HEADERS)\n",
    "private_key = mnemonic.to_private_key(env.MY_PHRASE)\n",
    "sender_address = account.address_from_private_key(private_key)\n",
    "sender_address"
   ]
  },
  {
   "cell_type": "markdown",
   "id": "978d0857-a7ff-4ace-b696-7c1cdaf824cb",
   "metadata": {},
   "source": [
    "The algorand network accepts 6 different types of transactions.\n",
    "You've probably used `pay` (the payment transaction for sending algo) and `axfer` (the asset transfer transaction for sending any other kind of asset).\n",
    "To create an manage our assets, we're going to use a transaction called `acfg`.\n",
    "The Asset Configuration Transaction.\n",
    "\n",
    "Fortunately the python library makes this really simple.\n",
    "\n",
    "Let's create our own function, to create an asset"
   ]
  },
  {
   "cell_type": "code",
   "execution_count": 3,
   "id": "b78e4d3e-3c07-4bf9-b1d6-ac0e38d62285",
   "metadata": {},
   "outputs": [],
   "source": [
    "def create_asset(total, decimals, **kwargs):\n",
    "    arguments = {\n",
    "        \"sender\": sender_address,\n",
    "        # These are just some default details that the transaction requires\n",
    "        \"sp\": ac.suggested_params(),\n",
    "        # Total is the number of divisible units\n",
    "        # Decimals is the number of decimal places\n",
    "        # For instance, if total is 100 and decimal is 1\n",
    "        # Then you'd have 10.0 assets.\n",
    "        \"total\": total,\n",
    "        \"decimals\": decimals,\n",
    "        # When DefaultFrozen is true, holders won't be able to transfer\n",
    "        # the asset out of their wallet without them being unfrozen first\n",
    "        \"default_frozen\": False,\n",
    "        # These are who has the ability to do certain things with the asset\n",
    "        # Often you want them to be the creator of the asset\n",
    "        # But in many cases, you probably want at least freeze and clawback\n",
    "        # to be \"\" so your holders can be confident you won't mess with their\n",
    "        # collection.\n",
    "        \"manager\": sender_address,\n",
    "        \"reserve\": sender_address,\n",
    "        \"freeze\": sender_address,\n",
    "        \"clawback\": sender_address,\n",
    "        # This is just protection to make sure you don't accidentally unset\n",
    "        # any of the above properties, locking out access\n",
    "        \"strict_empty_address_check\": False,\n",
    "        # We can override any settings, or provide those we haven't used yet\n",
    "        # by using kwargs when calling the method.\n",
    "        # E.g. create_asset(1, 0, asset_name=\"My Cool NFT\", freeze=\"\", clawback=\"\")\n",
    "        **kwargs\n",
    "    }\n",
    "    # Actual config transaciton\n",
    "    txn = AssetConfigTxn(**arguments)\n",
    "    # Sign it, so the blockchain is confident we're the ones who sent it\n",
    "    signed_txn = txn.sign(private_key)\n",
    "    # Send it! Create the asset!\n",
    "    txid = ac.send_transaction(signed_txn)\n",
    "    return txid"
   ]
  },
  {
   "cell_type": "code",
   "execution_count": 4,
   "id": "fdd26d07-576d-4a38-9be6-4fa0d9cb66b8",
   "metadata": {},
   "outputs": [
    {
     "data": {
      "text/plain": [
       "'N7NT4HANGQ5O5OZRNIQ5KWQAROTCXV2GSS5M2KIYRRJBU6REZTEA'"
      ]
     },
     "execution_count": 4,
     "metadata": {},
     "output_type": "execute_result"
    }
   ],
   "source": [
    "create_txid = create_asset(10000000, 2, asset_name=\"My Cool ASA\", freeze=\"\", clawback=\"\")\n",
    "create_txid"
   ]
  },
  {
   "cell_type": "markdown",
   "id": "588a835a-b5a2-4b58-b873-de053e4dc104",
   "metadata": {},
   "source": [
    "Now we've got the transaction that's been used to create our asset, but we don't have\n",
    "the asset itself.\n",
    "Lets create another method that can find a created asset using the indexer."
   ]
  },
  {
   "cell_type": "code",
   "execution_count": 5,
   "id": "9a485020-d1df-48db-bde3-4fcb64225d1f",
   "metadata": {},
   "outputs": [],
   "source": [
    "def find_asset_from_create_tx(txid):\n",
    "    # First, wait until our transaction has been confirmed\n",
    "    while True:\n",
    "        tx_info = ac.pending_transaction_info(txid)\n",
    "        if 'confirmed-round' in tx_info:\n",
    "            break\n",
    "        sleep(1)\n",
    "\n",
    "    assetId = tx_info['asset-index']\n",
    "    \n",
    "    return ac.asset_info(assetId)"
   ]
  },
  {
   "cell_type": "code",
   "execution_count": 6,
   "id": "02bad4ee-49fc-47ac-a3c2-8315da9f4d21",
   "metadata": {},
   "outputs": [
    {
     "data": {
      "text/plain": [
       "{'index': 52057232,\n",
       " 'params': {'creator': 'DEMOAOT4WHSF7RHA7ICKIHJGXPSVGH5AFMTRJFSUTVBEYZ6Y2EV2K3XCVQ',\n",
       "  'decimals': 2,\n",
       "  'default-frozen': False,\n",
       "  'manager': 'DEMOAOT4WHSF7RHA7ICKIHJGXPSVGH5AFMTRJFSUTVBEYZ6Y2EV2K3XCVQ',\n",
       "  'name': 'My Cool ASA',\n",
       "  'name-b64': 'TXkgQ29vbCBBU0E=',\n",
       "  'reserve': 'DEMOAOT4WHSF7RHA7ICKIHJGXPSVGH5AFMTRJFSUTVBEYZ6Y2EV2K3XCVQ',\n",
       "  'total': 10000000}}"
      ]
     },
     "execution_count": 6,
     "metadata": {},
     "output_type": "execute_result"
    }
   ],
   "source": [
    "find_asset_from_create_tx(create_txid)"
   ]
  },
  {
   "cell_type": "markdown",
   "id": "ee7f642a-26fc-4888-a64a-3353cee6a289",
   "metadata": {},
   "source": [
    "## Creating NFTs\n",
    "\n",
    "Now we've got some helpful tools for creating our ASAs,\n",
    "it becomes pretty trivial to use them for creating an NFT.\n",
    "Just set the `url` and the optional `metadata_hash` to point to the file you want to track.\n",
    "\n",
    "> A quick note about `metadata_hash`. I've seen a lot of people (myself included) use the content identifier from the IPFS URI as the `metadata_hash` but, [they're two different things](https://docs.ipfs.io/concepts/hashing/#content-identifiers-are-not-file-hashes).\n",
    ">\n",
    "> The file hash should be determined by hashing the file itself, using something like python's `hashlib` library. We'll do that here to demonstrate.\n",
    "\n",
    "Lets say we want to create an NFT out of this ground breaking piece of digital media.\n",
    "A black pixel:\n",
    "\n",
    "![A black pixel](../a-black-pixel.png)\n",
    "\n",
    "For now, I've manually uploaded it to pinata, but we'll go through automating the upload later.\n",
    "It's located at:\n",
    "\n",
    "```\n",
    "ipfs://QmVGs9MZxq4sh3boTJwqrZkNA6uhWZBcthbEAc2d5G37g1\n",
    "```\n",
    "\n",
    "We'll also ignore the hash for now, cause we'll automate it later too.\n",
    "\n",
    "To create an NFT, we just have to create the asset as before and assign the URL:"
   ]
  },
  {
   "cell_type": "code",
   "execution_count": 7,
   "id": "e0416fbc-6e0f-40b1-bdce-33d5a7430b87",
   "metadata": {},
   "outputs": [
    {
     "data": {
      "text/plain": [
       "{'index': 52057243,\n",
       " 'params': {'creator': 'DEMOAOT4WHSF7RHA7ICKIHJGXPSVGH5AFMTRJFSUTVBEYZ6Y2EV2K3XCVQ',\n",
       "  'decimals': 0,\n",
       "  'default-frozen': False,\n",
       "  'manager': 'DEMOAOT4WHSF7RHA7ICKIHJGXPSVGH5AFMTRJFSUTVBEYZ6Y2EV2K3XCVQ',\n",
       "  'name': 'My Cool NFT',\n",
       "  'name-b64': 'TXkgQ29vbCBORlQ=',\n",
       "  'reserve': 'DEMOAOT4WHSF7RHA7ICKIHJGXPSVGH5AFMTRJFSUTVBEYZ6Y2EV2K3XCVQ',\n",
       "  'total': 1,\n",
       "  'url': 'ipfs://QmVGs9MZxq4sh3boTJwqrZkNA6uhWZBcthbEAc2d5G37g1',\n",
       "  'url-b64': 'aXBmczovL1FtVkdzOU1aeHE0c2gzYm9USndxclprTkE2dWhXWkJjdGhiRUFjMmQ1RzM3ZzE='}}"
      ]
     },
     "execution_count": 7,
     "metadata": {},
     "output_type": "execute_result"
    }
   ],
   "source": [
    "create_txid = create_asset(\n",
    "    total=1,\n",
    "    decimals=0,\n",
    "    asset_name=\"My Cool NFT\",\n",
    "    freeze=\"\",\n",
    "    clawback=\"\", \n",
    "    url=\"ipfs://QmVGs9MZxq4sh3boTJwqrZkNA6uhWZBcthbEAc2d5G37g1\"\n",
    ")\n",
    "my_cool_nft = find_asset_from_create_tx(create_txid)\n",
    "my_cool_nft"
   ]
  },
  {
   "cell_type": "markdown",
   "id": "c66b9e3e-9849-4d83-ac25-15c2105f6cdd",
   "metadata": {},
   "source": [
    "Easy as that.\n",
    "\n",
    "### Automating upload and metadata-hash\n",
    "\n",
    "Now, lets also handle uploading the NFT, and creating some hash_metadata for it."
   ]
  },
  {
   "cell_type": "code",
   "execution_count": 8,
   "id": "55245e76-1068-4e75-948a-a18c56e6dc6d",
   "metadata": {},
   "outputs": [],
   "source": [
    "def upload_to_pinata(file):\n",
    "    url = 'https://api.pinata.cloud/pinning/pinFileToIPFS'\n",
    "    # open the file in binary read mode, otherwise we might get some weird\n",
    "    # behaviour with requests\n",
    "    with open(file, 'rb') as f:\n",
    "        # Send it to the endpoint... simple as that. Requests makes this really\n",
    "        # easy.\n",
    "        r = requests.post(\n",
    "            url,\n",
    "            files={'file': f},\n",
    "            headers={'Authorization': f\"Bearer {env.PINATA_JWT}\"}\n",
    "        )\n",
    "        \n",
    "    # If something went wrong, raise an error, otherwise just return the data\n",
    "    # we want\n",
    "    r.raise_for_status()\n",
    "    return r.json()"
   ]
  },
  {
   "cell_type": "code",
   "execution_count": 9,
   "id": "ef0b1987-0ad4-45bb-bd5d-2429b26118b1",
   "metadata": {},
   "outputs": [],
   "source": [
    "def get_hash(file):\n",
    "    m = hashlib.sha256()\n",
    "    # Read the file in a bit at a time, adding each to the hash:\n",
    "    with open(file, 'rb') as f:\n",
    "        for chunk in iter(lambda: f.read(4096), b\"\"):\n",
    "            m.update(chunk)\n",
    "    # Actually compile the hash and return it in bytes format\n",
    "    return m.digest()"
   ]
  },
  {
   "cell_type": "markdown",
   "id": "6d59fffd-0e9c-4b9f-99ca-21440a275bf2",
   "metadata": {},
   "source": [
    "And so it's now just simply a matter of passing that file to these methods and adding the return to our Asset Management Transaction."
   ]
  },
  {
   "cell_type": "code",
   "execution_count": 10,
   "id": "62bbef7b-1a73-4946-b1b9-8d1cc5af6b0c",
   "metadata": {},
   "outputs": [
    {
     "data": {
      "text/plain": [
       "'QmVGs9MZxq4sh3boTJwqrZkNA6uhWZBcthbEAc2d5G37g1'"
      ]
     },
     "execution_count": 10,
     "metadata": {},
     "output_type": "execute_result"
    }
   ],
   "source": [
    "pin = upload_to_pinata('../a-black-pixel.png')\n",
    "pin['IpfsHash']\n",
    "# Note, it's the same as above, because IPFS recognises it as a duplicate"
   ]
  },
  {
   "cell_type": "code",
   "execution_count": 11,
   "id": "a87d3f41-df7b-4fae-83bd-5762a82b552d",
   "metadata": {},
   "outputs": [
    {
     "data": {
      "text/plain": [
       "b' \\xc5\\xe1\\x97\\x1a\\xdb|\\x12\\xbf\\xf3\\xd1%\\xc2y\\xf8FRd\\xc8A\\x81\\xc6\\xea\\xda\\xcd\\xd5\\xf6\\xfb\\x96[\\xb6s'"
      ]
     },
     "execution_count": 11,
     "metadata": {},
     "output_type": "execute_result"
    }
   ],
   "source": [
    "file_hash = get_hash('../a-black-pixel.png')\n",
    "file_hash"
   ]
  },
  {
   "cell_type": "code",
   "execution_count": 12,
   "id": "96e527a2-d61f-4e07-8afd-9721976499b6",
   "metadata": {},
   "outputs": [
    {
     "data": {
      "text/plain": [
       "{'index': 52057274,\n",
       " 'params': {'creator': 'DEMOAOT4WHSF7RHA7ICKIHJGXPSVGH5AFMTRJFSUTVBEYZ6Y2EV2K3XCVQ',\n",
       "  'decimals': 0,\n",
       "  'default-frozen': False,\n",
       "  'manager': 'DEMOAOT4WHSF7RHA7ICKIHJGXPSVGH5AFMTRJFSUTVBEYZ6Y2EV2K3XCVQ',\n",
       "  'metadata-hash': 'IMXhlxrbfBK/89Elwnn4RlJkyEGBxurazdX2+5ZbtnM=',\n",
       "  'name': 'My Cool Automated NFT',\n",
       "  'name-b64': 'TXkgQ29vbCBBdXRvbWF0ZWQgTkZU',\n",
       "  'reserve': 'DEMOAOT4WHSF7RHA7ICKIHJGXPSVGH5AFMTRJFSUTVBEYZ6Y2EV2K3XCVQ',\n",
       "  'total': 1,\n",
       "  'url': 'ipfs://QmVGs9MZxq4sh3boTJwqrZkNA6uhWZBcthbEAc2d5G37g1',\n",
       "  'url-b64': 'aXBmczovL1FtVkdzOU1aeHE0c2gzYm9USndxclprTkE2dWhXWkJjdGhiRUFjMmQ1RzM3ZzE='}}"
      ]
     },
     "execution_count": 12,
     "metadata": {},
     "output_type": "execute_result"
    }
   ],
   "source": [
    "create_txid = create_asset(\n",
    "    total=1,\n",
    "    decimals=0,\n",
    "    asset_name=\"My Cool Automated NFT\",\n",
    "    freeze=\"\",\n",
    "    clawback=\"\", \n",
    "    url=f\"ipfs://{pin['IpfsHash']}\",\n",
    "    metadata_hash=file_hash\n",
    ")\n",
    "my_cool_automated_nft = find_asset_from_create_tx(create_txid)\n",
    "my_cool_automated_nft"
   ]
  },
  {
   "cell_type": "markdown",
   "id": "4e06cba9-62e6-4fe3-898e-9bc7d25b46ec",
   "metadata": {
    "tags": []
   },
   "source": [
    "## ARC-69\n",
    "\n",
    "[ARC-69](https://github.com/algokittens/arc69) is a proposal by [AlgoKittens](https://github.com/algokittens) to track metadata along with your NFTs.\n",
    "It's supported in a range of places, including Rand Gallery, where you can see an NFT's \"Attributes\" or \"Traits\".\n",
    "\n",
    "The general summary is that you append the metadata to the notes field of an Asset Configuration Transaction. As such, you can add the metadata at creation, or update it later, as long as you still have the `manager` property set on the asset.\n",
    "\n",
    "The metadata is stored in the json format, which may look something like this:\n",
    "\n",
    "```json\n",
    "{   \n",
    "  \"standard\": \"arc69\",\n",
    "  \"description\": \"An NFT we created as a demo\",\n",
    "  \"media_url\": \"ipfs://QmVGs9MZxq4sh3boTJwqrZkNA6uhWZBcthbEAc2d5G37g1\",\n",
    "  \"external_url\": \"https://github.com/sjk0-9\",\n",
    "  \"mime_type\":\"image/png\",\n",
    "  \"attributes\": [\n",
    "    {\n",
    "      \"trait_type\": \"Color\",\n",
    "      \"value\": \"Black\"\n",
    "    },\n",
    "    {\n",
    "      \"trait_type\": \"Size\",\n",
    "      \"value\": \"Smallest\"\n",
    "    },\n",
    "    {\n",
    "      \"trait_type\": \"Rarity\",\n",
    "      \"value\": 100\n",
    "    }\n",
    "  ]\n",
    "}\n",
    "```\n",
    "\n",
    "Since we can apply this to previous assets we've made, lets create a new method that lets us update our assets to apply the metadata."
   ]
  },
  {
   "cell_type": "code",
   "execution_count": 13,
   "id": "979f731d-0007-4428-8649-102659962d98",
   "metadata": {},
   "outputs": [],
   "source": [
    "def update_asset(assetId, **kwargs):\n",
    "    # More or less same as above, though we need to add the assetId we're updating.\n",
    "    arguments = {\n",
    "        \"index\": assetId,\n",
    "        \"sender\": sender_address,\n",
    "        # These are just some default details that the transaction requires\n",
    "        \"sp\": ac.suggested_params(),\n",
    "        # If we don't send these through, that's actually a delete command.\n",
    "        # It's ok if you've unset any fields, you can't overwrite those\n",
    "        \"manager\": sender_address,\n",
    "        \"reserve\": sender_address,\n",
    "        \"freeze\": sender_address,\n",
    "        \"clawback\": sender_address,\n",
    "        **kwargs\n",
    "    }\n",
    "    # Actual config transaciton\n",
    "    txn = AssetConfigTxn(**arguments)\n",
    "    # Sign it, so the blockchain is confident we're the ones who sent it\n",
    "    signed_txn = txn.sign(private_key)\n",
    "    # Send it! Update the asset!\n",
    "    txid = ac.send_transaction(signed_txn)\n",
    "    return txid"
   ]
  },
  {
   "cell_type": "code",
   "execution_count": 14,
   "id": "12560309-9b04-423e-9056-41485f80344d",
   "metadata": {},
   "outputs": [
    {
     "data": {
      "text/plain": [
       "'F7LCSASDXEFKYWJSEPS2SAV3ERLGBHWFUS7AKIMBGNNMZR6VJY6A'"
      ]
     },
     "execution_count": 14,
     "metadata": {},
     "output_type": "execute_result"
    }
   ],
   "source": [
    "update_asset(my_cool_automated_nft['index'], note='Hello World!')"
   ]
  },
  {
   "cell_type": "markdown",
   "id": "2508925d-22c4-4325-bb62-bfb894632999",
   "metadata": {},
   "source": [
    "If you take a look at that in algoexplorer, you'll see the transaction with the note attached.\n",
    "Let's make the note actually fulfill the ARC69 requirements though"
   ]
  },
  {
   "cell_type": "code",
   "execution_count": 15,
   "id": "9f592e82-6157-4738-96ea-0593ae648e3b",
   "metadata": {},
   "outputs": [],
   "source": [
    "def create_arc69_note(\n",
    "    description=None, external_url=None, media_url=None, mime_type=None, attributes=None\n",
    "):\n",
    "    body = {\n",
    "        \"standard\": 'arc69',\n",
    "        \"description\": description,\n",
    "        \"external_url\": external_url,\n",
    "        \"media_url\": media_url,\n",
    "        \"mime_type\": mime_type,\n",
    "        \"attributes\": attributes\n",
    "    }\n",
    "    # Removes all the fields without any data in them\n",
    "    clean_body = {k: v for k, v in body.items() if v is not None}\n",
    "    # Write to a json, byte string.\n",
    "    # Specify the separators without spaces in them, so we save on\n",
    "    # storage space. You've only got 1000 bytes to work with.\n",
    "    return json.dumps(clean_body, separators=[\",\", \":\"]).encode()\n",
    "\n",
    "# Just a simple helper to format attributes without having to type\n",
    "# the whole thing out over and over\n",
    "def arc69_attr(trait_type=None, value=None, **kwargs):\n",
    "    body = { \"trait_type\": trait_type, \"value\": value, **kwargs }\n",
    "    clean_body = {k: v for k, v in body.items() if v is not None}\n",
    "    return clean_body"
   ]
  },
  {
   "cell_type": "code",
   "execution_count": 16,
   "id": "e7cf8523-c951-4ca8-b929-cc7799182fbb",
   "metadata": {},
   "outputs": [
    {
     "data": {
      "text/plain": [
       "b'{\"standard\":\"arc69\",\"description\":\"An NFT we created as a demo\",\"external_url\":\"https://github.com/sjk0-9\",\"media_url\":\"ipfs://QmVGs9MZxq4sh3boTJwqrZkNA6uhWZBcthbEAc2d5G37g1\",\"mime_type\":\"image/png\",\"attributes\":[{\"trait_type\":\"Color\",\"value\":\"Grey\"},{\"trait_type\":\"Size\",\"value\":\"Smallest\"},{\"trait_type\":\"Rarity\",\"value\":100}]}'"
      ]
     },
     "execution_count": 16,
     "metadata": {},
     "output_type": "execute_result"
    }
   ],
   "source": [
    "arc69_metadata = create_arc69_note(\n",
    "    description='An NFT we created as a demo',\n",
    "    media_url=\"ipfs://QmVGs9MZxq4sh3boTJwqrZkNA6uhWZBcthbEAc2d5G37g1\",\n",
    "    external_url=\"https://github.com/sjk0-9\",\n",
    "    mime_type=\"image/png\",\n",
    "    attributes=[\n",
    "        arc69_attr('Color', 'Grey'),\n",
    "        arc69_attr('Size', 'Smallest'),\n",
    "        arc69_attr('Rarity', 100)\n",
    "    ]\n",
    ")\n",
    "arc69_metadata"
   ]
  },
  {
   "cell_type": "markdown",
   "id": "07cce978-4534-4ac8-b8a8-b8fe531cdc72",
   "metadata": {},
   "source": [
    "And so with this, we can either create a new asset and put the metadata in the note:"
   ]
  },
  {
   "cell_type": "code",
   "execution_count": 17,
   "id": "bad6edec-7c6d-4390-9290-c682c84f8f56",
   "metadata": {},
   "outputs": [
    {
     "data": {
      "text/plain": [
       "{'index': 52057325,\n",
       " 'params': {'creator': 'DEMOAOT4WHSF7RHA7ICKIHJGXPSVGH5AFMTRJFSUTVBEYZ6Y2EV2K3XCVQ',\n",
       "  'decimals': 0,\n",
       "  'default-frozen': False,\n",
       "  'manager': 'DEMOAOT4WHSF7RHA7ICKIHJGXPSVGH5AFMTRJFSUTVBEYZ6Y2EV2K3XCVQ',\n",
       "  'metadata-hash': 'IMXhlxrbfBK/89Elwnn4RlJkyEGBxurazdX2+5ZbtnM=',\n",
       "  'name': 'My Cool ARC-69 NFT',\n",
       "  'name-b64': 'TXkgQ29vbCBBUkMtNjkgTkZU',\n",
       "  'reserve': 'DEMOAOT4WHSF7RHA7ICKIHJGXPSVGH5AFMTRJFSUTVBEYZ6Y2EV2K3XCVQ',\n",
       "  'total': 1,\n",
       "  'url': 'ipfs://QmVGs9MZxq4sh3boTJwqrZkNA6uhWZBcthbEAc2d5G37g1',\n",
       "  'url-b64': 'aXBmczovL1FtVkdzOU1aeHE0c2gzYm9USndxclprTkE2dWhXWkJjdGhiRUFjMmQ1RzM3ZzE='}}"
      ]
     },
     "execution_count": 17,
     "metadata": {},
     "output_type": "execute_result"
    }
   ],
   "source": [
    "create_txid = create_asset(\n",
    "    total=1,\n",
    "    decimals=0,\n",
    "    asset_name=\"My Cool ARC-69 NFT\",\n",
    "    freeze=\"\",\n",
    "    clawback=\"\", \n",
    "    url=f\"ipfs://{pin['IpfsHash']}\",\n",
    "    metadata_hash=file_hash,\n",
    "    note=arc69_metadata\n",
    ")\n",
    "my_cool_arc69_nft = find_asset_from_create_tx(create_txid)\n",
    "my_cool_arc69_nft"
   ]
  },
  {
   "cell_type": "markdown",
   "id": "71d97c4d-e2b5-49fb-953c-66bedcf71245",
   "metadata": {},
   "source": [
    "Or add it to an existing asset: "
   ]
  },
  {
   "cell_type": "code",
   "execution_count": 18,
   "id": "6485fde5-c8c3-453b-be24-8ee0c9dad8ec",
   "metadata": {},
   "outputs": [
    {
     "data": {
      "text/plain": [
       "'PZYNNUM5ZIMXGOULLDN3YHVAQW7YZLNXPJOSHOPK2FBYAW2TJ4UQ'"
      ]
     },
     "execution_count": 18,
     "metadata": {},
     "output_type": "execute_result"
    }
   ],
   "source": [
    "update_asset(my_cool_automated_nft['index'], note=arc69_metadata)"
   ]
  },
  {
   "cell_type": "markdown",
   "id": "ebb890bb-c9b9-464e-812c-03c7e5beb834",
   "metadata": {},
   "source": [
    "## Congratulations!\n",
    "\n",
    "If you've been able to follow along with this guide, you should have everything you need to start programatically creating and publishing your own NFTs.\n",
    "\n",
    "Ideas on how you could build off of this:\n",
    "\n",
    "* Read [line by line through a CSV](https://docs.python.org/3/library/csv.html#csv.DictReader) and batch create/update assets.\n",
    "* Use a tool such as [nft-generator-py](https://github.com/Jon-Becker/nft-generator-py) or [HashLips](https://github.com/HashLips/hashlips_art_engine) to generate NFTs to then batch publish.\n",
    "\n",
    "I'd love to see what you've created with this.\n",
    "Feel free to get in touch, my twitter is [sjk0_9](https://twitter.com/sjk0_9).\n",
    "\n",
    "If you've got any feedback or improvements, please let me know!"
   ]
  }
 ],
 "metadata": {
  "kernelspec": {
   "display_name": "Python 3 (ipykernel)",
   "language": "python",
   "name": "python3"
  },
  "language_info": {
   "codemirror_mode": {
    "name": "ipython",
    "version": 3
   },
   "file_extension": ".py",
   "mimetype": "text/x-python",
   "name": "python",
   "nbconvert_exporter": "python",
   "pygments_lexer": "ipython3",
   "version": "3.9.5"
  }
 },
 "nbformat": 4,
 "nbformat_minor": 5
}
