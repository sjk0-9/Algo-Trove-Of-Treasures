{
 "cells": [
  {
   "cell_type": "markdown",
   "id": "54f6164e-c136-457a-85db-3bda34092079",
   "metadata": {},
   "source": [
    "# Sending ASAs\n",
    "\n",
    "So you've got a bunch of ASAs you want to distribute to a whole heap of people?\n",
    "Could do it one at a time through the app, or you could whip up something super quickly in python.\n",
    "\n",
    "To begin, we'll import the required algorand methods as well as our environment we set up [here](./env_file.md) and the sleep method for waiting on the algorand network.\n",
    "\n",
    "We'll then create the algorand connections we need, and get the key and address from our mnemonic. If all works, you should see your algorand address printed at the end."
   ]
  },
  {
   "cell_type": "code",
   "execution_count": 2,
   "id": "1324cc73-d0d1-4003-a8a7-06b9fa00d1a8",
   "metadata": {},
   "outputs": [],
   "source": [
    "from algosdk.v2client import algod\n",
    "from algosdk import mnemonic, account\n",
    "from algosdk.future.transaction import AssetTransferTxn\n",
    "import env\n",
    "from time import sleep"
   ]
  },
  {
   "cell_type": "code",
   "execution_count": 3,
   "id": "ab6e99ca-2f0e-4993-b58f-329ab1fb1a45",
   "metadata": {},
   "outputs": [
    {
     "data": {
      "text/plain": [
       "'DEMOAOT4WHSF7RHA7ICKIHJGXPSVGH5AFMTRJFSUTVBEYZ6Y2EV2K3XCVQ'"
      ]
     },
     "execution_count": 3,
     "metadata": {},
     "output_type": "execute_result"
    }
   ],
   "source": [
    "ac = algod.AlgodClient(env.API_TOKEN, env.ALGOD_ADDRESS, env.API_HEADERS)\n",
    "private_key = mnemonic.to_private_key(env.MY_PHRASE)\n",
    "sender_address = account.address_from_private_key(private_key)\n",
    "sender_address"
   ]
  },
  {
   "cell_type": "markdown",
   "id": "801b6420-87f9-4898-be3a-7b8771e0f583",
   "metadata": {},
   "source": [
    "If you've followed the [Creating ASAs tutorial](./creating_asas.md), then you'll be familiar with a lot of what we're doing here.\n",
    "\n",
    "Algorand has 6 transaction types you can write to the block chain.\n",
    "In this instance, we use the `axfer` transaction for transferring an ASA.\n",
    "Python makes this easy with the `AssetTransferTxn` method.\n",
    "\n",
    "We'll create a simple helper function that wraps it."
   ]
  },
  {
   "cell_type": "code",
   "execution_count": 9,
   "id": "1fa13968-e606-4440-b391-75d8c50bc046",
   "metadata": {},
   "outputs": [],
   "source": [
    "def send(assetId, quantity, to, note=None):\n",
    "    # These are some default details that the transaction requires\n",
    "    params = ac.suggested_params()\n",
    "    txn = AssetTransferTxn(\n",
    "        sender=sender_address,\n",
    "        sp=params,\n",
    "        receiver=to,\n",
    "        amt=quantity,\n",
    "        index=assetId,\n",
    "        # Only append a note to the transaction if one exists\n",
    "        note=str.encode(note) if note is not None else None,\n",
    "    )\n",
    "    # Sign it, so the blockchain is confident we're the ones who sent it.\n",
    "    stxn = txn.sign(private_key)\n",
    "    # Send it!\n",
    "    txid = ac.send_transaction(stxn)\n",
    "    return txid"
   ]
  },
  {
   "cell_type": "code",
   "execution_count": 8,
   "id": "df3859a3-0e58-4f7f-bf2e-91a0ec99e032",
   "metadata": {},
   "outputs": [
    {
     "data": {
      "text/plain": [
       "'KTQIS6MNY7UO5GI2XW4ULNAUF3B2OK2KYYONXGAR44UPXHH5UX4Q'"
      ]
     },
     "execution_count": 8,
     "metadata": {},
     "output_type": "execute_result"
    }
   ],
   "source": [
    "# This is an asset we created as part of the Creating ASAs tutorial\n",
    "sent_txid = send(\n",
    "    52057325,\n",
    "    1,\n",
    "    'DEMOIQZCE6HX2GMEXPGP3O3QZPMIVHAALJE6LNBVF2ACHIMAITRUFJOQ5M',\n",
    "    \"Hello World!\"\n",
    ")\n",
    "sent_txid"
   ]
  },
  {
   "cell_type": "markdown",
   "id": "15ce6825-2297-41df-a578-7a3b5aed4319",
   "metadata": {},
   "source": [
    "Now we've got the transaction ID, we want to wait to confirm it's actually been received.\n",
    "\n",
    "That's a pretty simple check:"
   ]
  },
  {
   "cell_type": "code",
   "execution_count": 12,
   "id": "074c1ad4-04fb-44a2-863b-638815f49480",
   "metadata": {},
   "outputs": [],
   "source": [
    "def confirm_sent(txid):\n",
    "    while True:\n",
    "        tx_info = ac.pending_transaction_info(txid)\n",
    "        if 'confirmed-round' in tx_info:\n",
    "            break\n",
    "        sleep(1)"
   ]
  },
  {
   "cell_type": "code",
   "execution_count": 13,
   "id": "9a295ff8-1054-4c78-9997-6f50a3529cd8",
   "metadata": {},
   "outputs": [],
   "source": [
    "confirm_sent(sent_txid)"
   ]
  },
  {
   "cell_type": "markdown",
   "id": "37a9777f-25ef-421a-86ee-072ea88701fc",
   "metadata": {},
   "source": [
    "This function will simply keep calling, waiting for the transaction to confirm.\n",
    "It won't exit until the recepient has definitely received the asset.\n",
    "\n",
    "You may want to edit it to count the number of loops waited, and if it seems we're stuck, raise an error to exit.\n",
    "\n",
    "## Side Note: Opting in\n",
    "\n",
    "Before moving onto the batch process, it's worth noting that what we've got here is everything we need to be able to opt into an asset.\n",
    "In algorand, opting into an asset is simply sending a 0 value transaction for an asset to yourself.\n",
    "\n",
    "So say we wanted to opt into the testnet Wrapped Algo asset (14704676), all we'd need to do is call:"
   ]
  },
  {
   "cell_type": "code",
   "execution_count": 16,
   "id": "68d1e1ad-ae56-4e87-ad60-116fcf8e604b",
   "metadata": {},
   "outputs": [
    {
     "data": {
      "text/plain": [
       "'YALCCHENENF2WAJXOOR4CLYD6OTTYBFFFVYUUGCYUNYM4QT5BTGA'"
      ]
     },
     "execution_count": 16,
     "metadata": {},
     "output_type": "execute_result"
    }
   ],
   "source": [
    "opt_in_txid = send(14704676, 0, sender_address)\n",
    "confirm_sent(opt_in_txid)\n",
    "opt_in_txid"
   ]
  },
  {
   "cell_type": "markdown",
   "id": "82658a6a-5df4-480e-a807-03162270552e",
   "metadata": {},
   "source": [
    "## Batch Sending Assets\n",
    "\n",
    "Sending batches of assets is now really simple.\n",
    "You just need a list of all the assets you want to send, and then iterate over it.\n",
    "\n",
    "This is a really good case for using something like Python's [CSV Reader](https://docs.python.org/3/library/csv.html#csv.DictReader) which lets you store it all in a spreadsheet compatible format."
   ]
  },
  {
   "cell_type": "code",
   "execution_count": 30,
   "id": "9dcb949b-92c3-464c-8c17-6e208a7c4378",
   "metadata": {},
   "outputs": [
    {
     "name": "stdout",
     "output_type": "stream",
     "text": [
      "{'assetId': '52057232', 'quantity': '50', 'to': 'DEMOIQZCE6HX2GMEXPGP3O3QZPMIVHAALJE6LNBVF2ACHIMAITRUFJOQ5M', 'note': None}\n",
      "{'assetId': '52057232', 'quantity': '42', 'to': 'DEMOUN4WTPLYTK347QENBTB7BOPJKTA5LIYRR55NIEDLIZRW3IFUV66TGU', 'note': ' A note'}\n",
      "{'assetId': '52057232', 'quantity': '.1', 'to': 'DEMO5BFQEZGQRMAV7DB3ZKGFZC32OO5QKMNJKMRS52PRQ5LCPV7GKKGDWQ', 'note': None}\n",
      "FZWRS7H4OPDEJOXTFMSW5ONOWCJDEL4OM7G7VOKLY6BTNR26UAXQ sent\n",
      "GBFZ56QBDQLKCMJME2FHHG2U4I7YTSL5LGHGO6DVTJWFVX5OYNKQ sent\n",
      "CAYRDMJAX66KO5TE6YPQEJYFVKDG7UDS33FBDPS4HAJLRPUEPHJQ sent\n"
     ]
    }
   ],
   "source": [
    "import csv\n",
    "# StringIO is only for demo purposes, to simulate opening a file\n",
    "# Normally you'd use the \"open\" method for reading into csv files\n",
    "# As demonstrated in the CSV documentation linked above.\n",
    "from io import StringIO\n",
    "\n",
    "CSV_FILE = StringIO(\"\"\"assetId,quantity,to,note\n",
    "52057232,50,DEMOIQZCE6HX2GMEXPGP3O3QZPMIVHAALJE6LNBVF2ACHIMAITRUFJOQ5M\n",
    "52057232,42,DEMOUN4WTPLYTK347QENBTB7BOPJKTA5LIYRR55NIEDLIZRW3IFUV66TGU, A note\n",
    "52057232,.1,DEMO5BFQEZGQRMAV7DB3ZKGFZC32OO5QKMNJKMRS52PRQ5LCPV7GKKGDWQ\n",
    "\"\"\")\n",
    "\n",
    "csv_reader = csv.DictReader(CSV_FILE)\n",
    "transactions = []\n",
    "for row in csv_reader:\n",
    "    print(row)\n",
    "    # Note, CSVs read in all types as strings, so we need to convert some to\n",
    "    # integers... wait a second, what's with that weird float thing there?\n",
    "    # So while algorand allows decimal places, and the ASA we created has two\n",
    "    # Decimals... that only affects how the assets display.\n",
    "    # When sending assets, you need to send the full amount.\n",
    "    # e.g. 10 with 2 decimals is 1000, 0.1 with 2 decimals is 10\n",
    "    txid = send(int(row['assetId']), int(float(row['quantity']) * 100), row['to'], row['note'])\n",
    "    transactions.append(txid)\n",
    "\n",
    "# Now we've sent everything, just wait until we can confirm all have been sent through\n",
    "for txid in transactions:\n",
    "    confirm_sent(txid)\n",
    "    print(txid, 'sent')"
   ]
  },
  {
   "cell_type": "code",
   "execution_count": null,
   "id": "cc484dbe-ea6c-40d5-bc42-8795c345d90e",
   "metadata": {},
   "outputs": [],
   "source": []
  }
 ],
 "metadata": {
  "kernelspec": {
   "display_name": "Python 3 (ipykernel)",
   "language": "python",
   "name": "python3"
  },
  "language_info": {
   "codemirror_mode": {
    "name": "ipython",
    "version": 3
   },
   "file_extension": ".py",
   "mimetype": "text/x-python",
   "name": "python",
   "nbconvert_exporter": "python",
   "pygments_lexer": "ipython3",
   "version": "3.9.5"
  }
 },
 "nbformat": 4,
 "nbformat_minor": 5
}
